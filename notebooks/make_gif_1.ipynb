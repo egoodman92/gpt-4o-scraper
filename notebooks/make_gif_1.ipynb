{
 "cells": [
  {
   "cell_type": "code",
   "execution_count": 1,
   "metadata": {},
   "outputs": [
    {
     "name": "stdout",
     "output_type": "stream",
     "text": [
      "Extracted 534 unique frames.\n"
     ]
    }
   ],
   "source": [
    "import imageio\n",
    "from PIL import Image\n",
    "import numpy as np\n",
    "\n",
    "# Function to compare two frames\n",
    "def is_duplicate(frame1, frame2):\n",
    "    return np.array_equal(frame1, frame2)\n",
    "\n",
    "# Read the GIF\n",
    "gif_path = 'concatenated_high_res.gif'\n",
    "gif = imageio.get_reader(gif_path)\n",
    "\n",
    "unique_frames = []\n",
    "prev_frame = None\n",
    "\n",
    "# Extract unique frames\n",
    "for i, frame in enumerate(gif):\n",
    "    if prev_frame is None or not is_duplicate(prev_frame, frame):\n",
    "        unique_frames.append(frame)\n",
    "        prev_frame = frame\n",
    "\n",
    "# Save unique frames as images\n",
    "for i, frame in enumerate(unique_frames):\n",
    "    frame_image = Image.fromarray(frame)\n",
    "    frame_image.save(f'unique_frame_{i}.png')\n",
    "\n",
    "print(f\"Extracted {len(unique_frames)} unique frames.\")\n"
   ]
  },
  {
   "cell_type": "code",
   "execution_count": 4,
   "metadata": {},
   "outputs": [
    {
     "name": "stdout",
     "output_type": "stream",
     "text": [
      "13\n"
     ]
    }
   ],
   "source": [
    "import imageio\n",
    "from PIL import Image, ImageDraw\n",
    "import os\n",
    "\n",
    "# Define the path to the unique frames directory\n",
    "unique_frames_path = 'unique_frames'\n",
    "\n",
    "# Load unique frames\n",
    "unique_frames = []\n",
    "for filename in sorted(os.listdir(unique_frames_path)):\n",
    "    if filename.endswith('.png'):\n",
    "        frame = Image.open(os.path.join(unique_frames_path, filename))\n",
    "        unique_frames.append(frame)\n",
    "\n",
    "print(len(unique_frames))"
   ]
  },
  {
   "cell_type": "code",
   "execution_count": 20,
   "metadata": {},
   "outputs": [
    {
     "name": "stderr",
     "output_type": "stream",
     "text": [
      "/var/folders/jr/pzgvyjp95jdfzl0rzmg25j280000gn/T/ipykernel_55910/3445015588.py:41: DeprecationWarning: ANTIALIAS is deprecated and will be removed in Pillow 10 (2023-07-01). Use LANCZOS or Resampling.LANCZOS instead.\n",
      "  thumbnail = frame.resize((thumbnail_width, thumbnail_height), Image.ANTIALIAS)\n",
      "/var/folders/jr/pzgvyjp95jdfzl0rzmg25j280000gn/T/ipykernel_55910/3445015588.py:56: DeprecationWarning: ANTIALIAS is deprecated and will be removed in Pillow 10 (2023-07-01). Use LANCZOS or Resampling.LANCZOS instead.\n",
      "  previous_thumbnail = unique_frames[j].resize((prev_thumbnail_width, prev_thumbnail_height), Image.ANTIALIAS)\n"
     ]
    }
   ],
   "source": [
    "import imageio\n",
    "from PIL import Image, ImageDraw\n",
    "import os\n",
    "\n",
    "# Define the path to the unique frames directory\n",
    "unique_frames_path = 'unique_frames'\n",
    "\n",
    "# Define the duration for each frame in seconds\n",
    "SECONDS_PER_FRAME = 2  # You can adjust this value as needed\n",
    "\n",
    "# Load unique frames\n",
    "unique_frames = []\n",
    "for filename in sorted(os.listdir(unique_frames_path)):\n",
    "    if filename.endswith('.png'):\n",
    "        frame = Image.open(os.path.join(unique_frames_path, filename))\n",
    "        unique_frames.append(frame)\n",
    "\n",
    "# Define the dimensions for the sidebar and combined image\n",
    "frame_width, frame_height = unique_frames[0].size\n",
    "sidebar_width = int(frame_width * 0.2)  # Fixed sidebar width\n",
    "sidebar_height = frame_height\n",
    "\n",
    "# Create a blank sidebar\n",
    "sidebar = Image.new('RGB', (sidebar_width, sidebar_height), (255, 255, 255))\n",
    "\n",
    "# Combine frames with the sidebar\n",
    "combined_frames = []\n",
    "thumbnail_height = sidebar_height // len(unique_frames)  # Height for each thumbnail\n",
    "\n",
    "for i, frame in enumerate(unique_frames):\n",
    "    # Calculate the correct aspect ratio for the thumbnail\n",
    "    aspect_ratio = frame_width / frame_height\n",
    "    thumbnail_width = sidebar_width\n",
    "    thumbnail_height = int(sidebar_width / aspect_ratio)\n",
    "    \n",
    "    if thumbnail_height * len(unique_frames) > sidebar_height:\n",
    "        thumbnail_height = sidebar_height // len(unique_frames)\n",
    "        thumbnail_width = int(thumbnail_height * aspect_ratio)\n",
    "\n",
    "    # Create the thumbnail with correct aspect ratio\n",
    "    thumbnail = frame.resize((thumbnail_width, thumbnail_height), Image.ANTIALIAS)\n",
    "    \n",
    "    # Create a new sidebar image with the correct width and height\n",
    "    sidebar = Image.new('RGB', (sidebar_width, sidebar_height), (255, 255, 255))\n",
    "\n",
    "    # Paste all previous thumbnails into the new sidebar\n",
    "    y_offset = 0\n",
    "    for j in range(i + 1):\n",
    "        prev_thumbnail_height = int(sidebar_width / aspect_ratio)\n",
    "        if prev_thumbnail_height * len(unique_frames) > sidebar_height:\n",
    "            prev_thumbnail_height = sidebar_height // len(unique_frames)\n",
    "            prev_thumbnail_width = int(prev_thumbnail_height * aspect_ratio)\n",
    "        else:\n",
    "            prev_thumbnail_width = sidebar_width\n",
    "\n",
    "        previous_thumbnail = unique_frames[j].resize((prev_thumbnail_width, prev_thumbnail_height), Image.ANTIALIAS)\n",
    "        sidebar.paste(previous_thumbnail, (0, y_offset))\n",
    "        y_offset += prev_thumbnail_height\n",
    "\n",
    "    # Combine the current frame with the updated sidebar\n",
    "    combined_image = Image.new('RGB', (frame_width + sidebar_width, frame_height))\n",
    "    combined_image.paste(frame, (0, 0))\n",
    "    combined_image.paste(sidebar, (frame_width, 0))\n",
    "    \n",
    "    combined_frames.append(combined_image)\n",
    "\n",
    "# Convert SECONDS_PER_FRAME to milliseconds\n",
    "duration_in_ms = SECONDS_PER_FRAME * 1000\n",
    "\n",
    "# Save the combined frames as a new GIF\n",
    "combined_gif_path = 'combined_gif_correct_aspect_ratio_cropped.gif'\n",
    "combined_frames[0].save(\n",
    "    combined_gif_path,\n",
    "    save_all=True,\n",
    "    append_images=combined_frames[1:],\n",
    "    duration=duration_in_ms,  # Duration of each frame in milliseconds\n",
    "    loop=0\n",
    ")\n"
   ]
  },
  {
   "cell_type": "code",
   "execution_count": 21,
   "metadata": {},
   "outputs": [
    {
     "name": "stdout",
     "output_type": "stream",
     "text": [
      "Cropped GIF saved to cropped_combined_gif.gif\n"
     ]
    }
   ],
   "source": [
    "import imageio\n",
    "from PIL import Image\n",
    "\n",
    "# Define the duration for each frame in seconds\n",
    "SECONDS_PER_FRAME = 2  # You can adjust this value as needed\n",
    "\n",
    "# Convert SECONDS_PER_FRAME to milliseconds\n",
    "duration_in_ms = SECONDS_PER_FRAME * 1000\n",
    "\n",
    "# Path to the combined GIF\n",
    "combined_gif_path = 'combined_gif_correct_aspect_ratio_cropped.gif'\n",
    "\n",
    "# Load the combined GIF\n",
    "gif = imageio.mimread(combined_gif_path)\n",
    "\n",
    "# Determine the dimensions for cropping\n",
    "frame_width, frame_height = gif[0].shape[1], gif[0].shape[0]\n",
    "crop_width = int(frame_width * 0.9)  # Remove the right 10%\n",
    "\n",
    "# Crop each frame\n",
    "cropped_frames = []\n",
    "for frame in gif:\n",
    "    frame_image = Image.fromarray(frame)\n",
    "    cropped_frame = frame_image.crop((0, 0, crop_width, frame_height))\n",
    "    cropped_frames.append(cropped_frame)\n",
    "\n",
    "# Save the cropped frames as a new GIF with the correct duration\n",
    "cropped_gif_path = 'cropped_combined_gif.gif'\n",
    "cropped_frames[0].save(\n",
    "    cropped_gif_path,\n",
    "    save_all=True,\n",
    "    append_images=cropped_frames[1:],\n",
    "    duration=duration_in_ms,  # Duration of each frame in milliseconds\n",
    "    loop=0\n",
    ")\n",
    "\n",
    "print(f\"Cropped GIF saved to {cropped_gif_path}\")\n"
   ]
  }
 ],
 "metadata": {
  "kernelspec": {
   "display_name": "Python 3",
   "language": "python",
   "name": "python3"
  },
  "language_info": {
   "codemirror_mode": {
    "name": "ipython",
    "version": 3
   },
   "file_extension": ".py",
   "mimetype": "text/x-python",
   "name": "python",
   "nbconvert_exporter": "python",
   "pygments_lexer": "ipython3",
   "version": "3.9.6"
  }
 },
 "nbformat": 4,
 "nbformat_minor": 2
}
